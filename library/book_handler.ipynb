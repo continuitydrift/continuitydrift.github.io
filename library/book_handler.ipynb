{
 "cells": [
  {
   "cell_type": "markdown",
   "metadata": {},
   "source": [
    "# book handler "
   ]
  },
  {
   "cell_type": "code",
   "execution_count": 1,
   "metadata": {},
   "outputs": [],
   "source": [
    "import csv, json"
   ]
  },
  {
   "cell_type": "markdown",
   "metadata": {},
   "source": [
    "Never forget your imports!"
   ]
  },
  {
   "cell_type": "markdown",
   "metadata": {},
   "source": [
    "DEPRECIATED :)\n",
    "\n",
    "def parse_csv(fp):\n",
    "    try:\n",
    "        with open(fp, 'r') as csvfile:\n",
    "            reader = csv.DictReader(csvfile)\n",
    "\n",
    "            rownum = 0\n",
    "            for row in reader:\n",
    "    # Save header row.\n",
    "                if rownum ==0:\n",
    "                    header = row\n",
    "                else:\n",
    "                    colnum = 0\n",
    "                #this looks like they are misspelling column, but they aren't\n",
    "                    for col in row:\n",
    "                        print (header[colnum], col)\n",
    "\n",
    "                    colnum += 1\n",
    "                rownum += 1\n",
    "    except: \n",
    "        print (\"Whelp, that didn't work\")\n",
    "    "
   ]
  },
  {
   "cell_type": "markdown",
   "metadata": {},
   "source": [
    "So, this should simply print the csv data"
   ]
  },
  {
   "cell_type": "code",
   "execution_count": 8,
   "metadata": {},
   "outputs": [],
   "source": [
    "def parse_csv(fp):\n",
    "    global titles, author_firsts, author_lasts, library\n",
    "    titles = []\n",
    "    author_firsts = []\n",
    "    author_lasts = []\n",
    "    library ={}\n",
    "    \n",
    "    #this will reset the lists, I think, everytime the csv file is read, which should be okay.\n",
    "    #I know global variables are bad, but I'm going to do it that way, \n",
    "    #so I don't have to re-do everything in my make_json() funciton.\n",
    "    \n",
    "    with open(fp, 'r') as csvfile:\n",
    "        reader = csv.DictReader(csvfile, delimiter='\"')\n",
    "        for row in reader:\n",
    "            #print (row)\n",
    "            title= (row[\"TITLE\"])\n",
    "            titles.append(title)\n",
    "            author_first= (row[\"AUTHOR_FIRST\"])\n",
    "            #I probably shouldn't have named those things so similarly...\n",
    "            #well, cool\n",
    "            author_firsts.append(author_first)\n",
    "            author_last=(row[\"AUTHOR_LAST\"])\n",
    "            author_lasts.append(author_last)\n",
    "            library.update({title:{\"author_last\":author_last, \"author_first\":author_first}})\n",
    "        #print (titles)\n",
    "        #print (author_firsts)\n",
    "        #print (author_lasts)"
   ]
  },
  {
   "cell_type": "code",
   "execution_count": 9,
   "metadata": {},
   "outputs": [],
   "source": [
    "def print_lib():\n",
    "    try:\n",
    "        for title in library:\n",
    "            print (title, \"by\", library[title][\"author_first\"], library[title][\"author_last\"]) \n",
    "           # print(library[title][\"author_first\"])\n",
    "            #like this:  mydict[\"Apple\"][\"American\"]\n",
    "    except:\n",
    "        print (\"sad trombone...\")\n",
    "\n",
    "#outside of loop\n",
    "        \n",
    "    #print library[\"\"#wonder if that will work..."
   ]
  },
  {
   "cell_type": "markdown",
   "metadata": {},
   "source": [
    "Now I'm going to try to do the same thing with author_last and author_first...\n",
    "Hey, my 2 viewers are still there! You guys bots, or what?\n",
    "Hey, 3 viewers! I've made the big time!!!"
   ]
  },
  {
   "cell_type": "code",
   "execution_count": 10,
   "metadata": {},
   "outputs": [],
   "source": [
    "def make_json():\n",
    "    global library\n",
    "    try:\n",
    "        with open(\"testlib.json\", \"w\") as jsf:\n",
    "            json.dump(library, jsf)\n",
    "\n",
    "# so this is using the csv file directly, it looks like, not the library from the program.\n",
    "\n",
    "# okay, do I want to somehow import the existing JSON first, or am I assuming a csv ->handler -> JSON (->html) pipeline?\n",
    "\n",
    "# I need to build the library{}\n",
    "        #for title in titles:\n",
    "         #   library.update({title:{\"author_last\":new_al, \"author_first\":new_af}})\n",
    "#I'm nervous that every time I'm going to completely rewrite the JSON values...\n",
    "\n",
    "#I'm realizing this isn't the way to do this. I need to make the dictionary as I iterate the rows.\n",
    "        #with open(\"test_lib.json\", 'w') as jsf:\n",
    "         #   json.dump(library, rf)\n",
    "    # I don't see this file, so this line must not work.\n",
    "    except: \n",
    "        print (\"you couldn't make the dump.\")"
   ]
  },
  {
   "cell_type": "markdown",
   "metadata": {},
   "source": [
    "why isn't that file being created?"
   ]
  },
  {
   "cell_type": "code",
   "execution_count": 11,
   "metadata": {},
   "outputs": [],
   "source": [
    "make_json()\n"
   ]
  },
  {
   "cell_type": "code",
   "execution_count": 12,
   "metadata": {},
   "outputs": [
    {
     "name": "stdout",
     "output_type": "stream",
     "text": [
      "Vladamir Nabokov by Jane Grayson\n",
      "Debatable Space by Philip Palmer\n",
      "Ice Prophet by William Forstchen\n",
      "Cusp by Robert A.  Metzger\n",
      "The Renaissance Philosophy of Man by Ernst Cassirer\n",
      "You've Got to Read This by Ron Hansen (ed)\n",
      "Slant by Greg Bear\n",
      "Against the Fall of Night by Arthur C.  Clarke\n",
      "Aku-aku by Thor heyerdahl\n",
      "Arcades Project, the by Walter Benjamin\n",
      "Art instinct, the by Denis Dutton\n",
      "Aspen Paper, the, and Turn of the Screw by Henry James\n",
      "Awakening, the by Kate Chopin\n",
      "Axiomatic by Greg Egan\n",
      "Backpacker, the by Albert Saijo\n",
      "Becoming Native to this Place by Wes Jackson\n",
      "Blithedale Romance, the by Nathaniel Hawthorne\n",
      "Chinese Myths by Frank \n",
      "Classic, theKermode\n",
      "Collages by Anais Nin\n",
      "Cosmic Race, The by Jose Vasconcelos\n",
      "Dark Tower, The by Stephen King\n",
      "Dear Reader by Garrett Stewart\n",
      "Deep Economy by Bill McKibben\n",
      "Descartes' Error by Antonio Damasio\n",
      "Embassy Town by China Mieville\n",
      "Envy by Yury Olesha\n",
      "Literary Darwinism: Evolution, Human Nature, and Literature by Joseph Carroll\n",
      "Farnham's Freehold by Robert A.  Heinlein\n",
      "Fire Time by Paul Anderson\n",
      "Flatland by Edwin Abbot\n",
      "Food of the Gods: The Search for the Original Tree of Knowledge: A Radical History of Plants, Drugs, and Human Evolution by Terence  McKenna\n",
      "Four Major Plays by  Ibsen\n",
      "Green Mars by Kim Stanley Robinson\n",
      "Gulliver's Travels by Jonathan Swift\n",
      "Handbook, the by Anais Epictetus\n",
      "Henry and JuneNin\n",
      "Howl's Moving Castle by Diana Wynne Jones\n",
      "Icehenge by Kim Stanley Robinson\n",
      "Idoru by William Gibson\n",
      "Invisible Pyramid, the by Loren Eiseley\n",
      "Jamaica Inn by Daphne  duMaurier\n",
      "Jungle Books, the  by Rudyard  Kipling\n",
      "King, Queen, Knave by Vladimir Nabokov\n",
      "Kite Runner, the by Khaled  Hosseini\n",
      "Lazzi by Mel Gordon\n",
      "Life of Samuel Johnson, the by James Boswell\n",
      "Literature Machine, the by Italo Calvino\n",
      "Look at the Harlequins by Vladamir Nabokov\n",
      "Lysistrata/The Acharnians  by Felix J.  Aristophanes\n",
      "Map of the Sky, thePalma\n",
      "Marx-Engels Reader, the by Karl Marx\n",
      "Meme Machine, the by Susan  Blackmore\n",
      "Metamorphoses by John E.  Ovid\n",
      "Mountain of Fame: Portraits in Chinese HistoryWills\n",
      "my Life by Lyn hejinian\n",
      "Narratology: introduction to the Theory of Narrative by Mieke Bal\n",
      "Norton Anthology of American Literature by Jacques  \n",
      "Norton Anthology of English Literature\"\n",
      "Of GrammatologyDerrida\n",
      "Panda's thumb, the by Stephen Jay Gould\n",
      "Philosophy of Language, the by A.P. Martinich\n",
      "Picture Theory by WJT Mitchell\n",
      "Pioneers, the by James Fenimore  Cooper\n",
      "Poe Shadow, the by Matthew Pearl\n",
      "Power of Myth, the by Joseph Campbell\n",
      "Practice of Everyday Life by Michel  de Certeau\n",
      "Prarie, the by James Finimore  Cooper\n",
      "Protestant Ethic and the Spirit of Capitalism, the by Max Weber\n",
      "Puck of Pook's Hill by Rudyard Kipling\n",
      "Railway Journey, the by Wolfgang Schivelbusch\n",
      "Recursive Universe, the: Cosmic Complexity and the Limits of Scientific Knowledge by William Poundstone\n",
      "Riverside Shakespeare by William Shakespeare\n",
      "Road, the by Cormac McCarthy\n",
      "Ruth Hall and Other Writings by Fanny Fern\n",
      "Science Fiction Classics by Edgar Rice Burroughs\n",
      "Selected Tales by Nathaniel  Hawthorne\n",
      "Sense of an Ending, the by Frank Kermode\n",
      "Shock Doctrine, The by Naomi Klein\n",
      "short History of the World, A by H. G.  Wells\n",
      "Sir Gawain and the Green Knight by Nathaniel \n",
      "Steps in English, Book 2\"\n",
      "TalesHawthorne\n",
      "Tribal Secrets: Recovering American indian intellectual Traditions by Robert Allen Warrior\n",
      "Typee by Herman Melville\n",
      "Visions of Wonder by et \n",
      "Whole Family, theal\n",
      "Wieland by Charles Brockden Brown\n",
      "World War Z by Max Brooks\n",
      "Years Best Science Fiction: Twelfth Annual Collection by Robert A.  \n",
      "Zen and the Art of Motorcycle MaintenancePirsig\n",
      "Philosophy: An Introduction Through Literature by Lowell Kleiman  (ed)\n",
      "Pierre Riviere, Having Slaughtered my Mother, my Sister, my Brother... by Michel  Foucault\n",
      "Eon by Greg  Bear\n",
      "Lilith by George MacDonald\n",
      "The Hounds of Morrigan by Pat O'Shea\n",
      "The Simarillion by J.R.R. Tolkien\n",
      "The New Space Opera 2 by Gardner  Dozois (ed)\n",
      " by None None\n",
      "X-statix Omnibus by Peter Milligan et al\n",
      "So Little Time and Point of No Return by John P. Marquand\n",
      "LansinggAlfred by None None\n",
      "Light and Matter:  by Paul Brooke\n",
      "Science Fiction after 1900 by Brooks Landon\n",
      "discipline an punish by Michel  Foucault\n",
      "History of Sexuality, the by Michel  Foucault\n",
      "Foucault, Primer, A by Michel  Foucaultq\n",
      "Power/Knowlegde by Michel  Foucault\n",
      "On Social Psychology by George Herbert Mead\n",
      "Outline of a Theory of Practice by Pierre Bourdieu\n",
      "Moral, Believing Animals by None \n",
      "\n"
     ]
    }
   ],
   "source": [
    "parse_csv(\"test2.csv\")\n",
    "print_lib()"
   ]
  },
  {
   "cell_type": "markdown",
   "metadata": {},
   "source": [
    "Okay, cool. Now the next step will be trying to convert this into JSON format."
   ]
  },
  {
   "cell_type": "markdown",
   "metadata": {},
   "source": [
    "woo hoo!\n"
   ]
  },
  {
   "cell_type": "code",
   "execution_count": null,
   "metadata": {},
   "outputs": [],
   "source": [
    "def enter_books():\n",
    "    new_library={}\n",
    "    try:\n",
    "        with open(\"new_library.json\", \"r\") as rf:\n",
    "            new_library = json.load(rf)\n",
    "            print (new_library)\n",
    "            print (\"we did it! We've read a JSON file and turned it into a dicitonary!\")\n",
    "    except:\n",
    "        print (\"You didn't even get to the stage where you made the dictionary. So sorry!\")\n",
    "    try:\n",
    "        new_title = str(input(\"What is the name of the book you would like to enter?\"))\n",
    "        #now I'm going to try to add items to the dictionary from user input\n",
    "        new_al = str(input(\"What is the author's last name?\"))\n",
    "        new_af = str(input(\"First name?\"))\n",
    "        #Or should I store the author name as \"last, first\"??? Whatever, I can change it later.\n",
    "        \n",
    "        #al is author_last\n",
    "        new_library.update({new_title:{\"author_last\":new_al, \"author_first\":new_af}})\n",
    "        for row in new_library:\n",
    "            print (row)\n",
    "    except:\n",
    "        print (\"yeah, no, that didn't work.\")\n",
    "    try:\n",
    "        #using these try, except statements is kind of like breaking my code into cells. \n",
    "        #I wonder if I should make this a separate function?\n",
    "        with open (\"new_library.json\", \"w\") as wf:\n",
    "            #oooooooh.\n",
    "            #is this problematic, to open the same file in two ways? Did the rf close automatically?\n",
    "            json.dump(new_library, wf)\n",
    "            #I think that's right...reverse it...\n",
    "    except: \n",
    "        print (\"You're a silly goose.\")\n",
    "        "
   ]
  },
  {
   "cell_type": "markdown",
   "metadata": {},
   "source": [
    "cut and pasted example for reference:\n",
    "\n",
    "with open('strings.json') as json_data:\n",
    "    d = json.load(json_data)\n",
    "    print(d)"
   ]
  },
  {
   "cell_type": "code",
   "execution_count": null,
   "metadata": {},
   "outputs": [],
   "source": [
    "make_json(\"test.csv\")\n",
    "#enter_books()"
   ]
  },
  {
   "cell_type": "markdown",
   "metadata": {},
   "source": [
    "I'm going to use the above cell to store all of my calls. \n",
    "Okay, I think that worked. I need to have it save the new stuff to the JSON, or it will keep resetting."
   ]
  },
  {
   "cell_type": "code",
   "execution_count": null,
   "metadata": {},
   "outputs": [],
   "source": []
  }
 ],
 "metadata": {
  "kernelspec": {
   "display_name": "Python 3",
   "language": "python",
   "name": "python3"
  },
  "language_info": {
   "codemirror_mode": {
    "name": "ipython",
    "version": 3
   },
   "file_extension": ".py",
   "mimetype": "text/x-python",
   "name": "python",
   "nbconvert_exporter": "python",
   "pygments_lexer": "ipython3",
   "version": "3.6.4"
  }
 },
 "nbformat": 4,
 "nbformat_minor": 2
}
